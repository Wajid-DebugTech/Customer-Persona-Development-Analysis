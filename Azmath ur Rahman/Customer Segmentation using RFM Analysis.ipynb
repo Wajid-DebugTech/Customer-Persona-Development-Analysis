{
 "cells": [
  {
   "cell_type": "markdown",
   "id": "14fcb3b8",
   "metadata": {},
   "source": [
    "# Customer Segmentation using RFM Analysis\n",
    "# Dataset: Online Retail (UK-based transactions)\n",
    "# Objective: Identify target demographics and segment customers\n",
    "# Factors: Recency (days since last purchase), Frequency (unique orders),\n",
    "#          Monetary (total spend)\n"
   ]
  },
  {
   "cell_type": "code",
   "execution_count": 4,
   "id": "48562cd9",
   "metadata": {},
   "outputs": [
    {
     "name": "stdout",
     "output_type": "stream",
     "text": [
      "            Recency  Frequency  Monetary R_Quartile F_Quartile M_Quartile  \\\n",
      "CustomerID                                                                  \n",
      "12346.0         326          1  77183.60          1          1          4   \n",
      "12347.0           2          7   4310.00          4          2          4   \n",
      "12348.0          75          4   1797.24          2          1          4   \n",
      "12349.0          19          1   1757.55          3          1          4   \n",
      "12350.0         310          1    334.40          1          1          2   \n",
      "12352.0          36          8   2506.04          3          2          4   \n",
      "12353.0         204          1     89.00          1          1          1   \n",
      "12354.0         232          1   1079.40          1          1          3   \n",
      "12355.0         214          1    459.40          1          1          2   \n",
      "12356.0          23          3   2811.43          3          1          4   \n",
      "\n",
      "           RFM_Segment  RFM_Score  \n",
      "CustomerID                         \n",
      "12346.0            114          6  \n",
      "12347.0            424         10  \n",
      "12348.0            214          7  \n",
      "12349.0            314          8  \n",
      "12350.0            112          4  \n",
      "12352.0            324          9  \n",
      "12353.0            111          3  \n",
      "12354.0            113          5  \n",
      "12355.0            112          4  \n",
      "12356.0            314          8  \n"
     ]
    }
   ],
   "source": [
    "import pandas as pd\n",
    "import datetime as dt\n",
    "import matplotlib.pyplot as plt\n",
    "import seaborn as sns\n",
    "\n",
    "# Load data (adjust path as needed)\n",
    "df = pd.read_csv(\"data.csv\", encoding='ISO-8859-1')\n",
    "\n",
    "# Step 1: Data Cleaning\n",
    "# Remove entries with missing CustomerID and negative quantities\n",
    "df_clean = df.dropna(subset=['CustomerID'])\n",
    "df_clean = df_clean[df_clean['Quantity'] > 0]\n",
    "\n",
    "# Convert InvoiceDate to datetime\n",
    "df_clean['InvoiceDate'] = pd.to_datetime(df_clean['InvoiceDate'])\n",
    "\n",
    "# Step 2: Define Snapshot Date (1 day after latest transaction)\n",
    "snapshot_date = df_clean['InvoiceDate'].max() + dt.timedelta(days=1)\n",
    "\n",
    "# Step 3: Compute RFM Metrics\n",
    "rfm = df_clean.groupby('CustomerID').agg({\n",
    "    'InvoiceDate': lambda x: (snapshot_date - x.max()).days,  # Recency\n",
    "    'InvoiceNo': 'nunique',                                    # Frequency\n",
    "    'UnitPrice': lambda x: (x * df_clean.loc[x.index, 'Quantity']).sum()  # Monetary\n",
    "})\n",
    "rfm.columns = ['Recency', 'Frequency', 'Monetary']\n",
    "\n",
    "# Step 4: Assign Quartiles to RFM\n",
    "# Recency Quartiles (lower is better)\n",
    "rfm['R_Quartile'] = pd.qcut(rfm['Recency'], 4, labels=[4, 3, 2, 1])\n",
    "\n",
    "# Handle Frequency and Monetary with custom binning due to unique value limits\n",
    "freq_quantiles = rfm['Frequency'].quantile([0, 0.33, 0.66, 1]).unique()\n",
    "mon_quantiles = rfm['Monetary'].quantile([0, 0.25, 0.5, 0.75, 1]).unique()\n",
    "\n",
    "freq_labels = list(range(1, len(freq_quantiles)))  # [1, 2, 3]\n",
    "mon_labels = list(range(1, len(mon_quantiles)))    # [1, 2, 3, 4]\n",
    "\n",
    "rfm['F_Quartile'] = pd.cut(rfm['Frequency'], bins=freq_quantiles, labels=freq_labels, include_lowest=True)\n",
    "rfm['M_Quartile'] = pd.cut(rfm['Monetary'], bins=mon_quantiles, labels=mon_labels, include_lowest=True)\n",
    "\n",
    "# Step 5: Create RFM Segment and Score\n",
    "rfm['RFM_Segment'] = rfm['R_Quartile'].astype(str) + rfm['F_Quartile'].astype(str) + rfm['M_Quartile'].astype(str)\n",
    "rfm['RFM_Score'] = rfm[['R_Quartile', 'F_Quartile', 'M_Quartile']].astype(int).sum(axis=1)\n",
    "\n",
    "# Step 6: Display top records\n",
    "print(rfm.head(10))"
   ]
  },
  {
   "cell_type": "code",
   "execution_count": 2,
   "id": "8375efcd",
   "metadata": {},
   "outputs": [],
   "source": [
    "#Save segmented customers to CSV\n",
    "rfm.to_csv(\"rfm_segmented_customers.csv\")"
   ]
  },
  {
   "cell_type": "code",
   "execution_count": 7,
   "id": "e569a5f5",
   "metadata": {},
   "outputs": [
    {
     "name": "stdout",
     "output_type": "stream",
     "text": [
      "Segment counts:\n",
      " At Risk            1958\n",
      "Loyal Customers     969\n",
      "Champions           894\n",
      "Dormant             518\n",
      "Name: Segment, dtype: int64\n"
     ]
    },
    {
     "data": {
      "image/png": "[encoded data removed]",
      "text/plain": [
       "<Figure size 720x432 with 1 Axes>"
      ]
     },
     "metadata": {
      "needs_background": "light"
     },
     "output_type": "display_data"
    }
   ],
   "source": [
    "# Ensure all required columns are present and not null\n",
    "rfm = rfm.dropna(subset=['RFM_Score'])\n",
    "\n",
    "# Reassign customer segments safely\n",
    "def assign_segment(score):\n",
    "    try:\n",
    "        score = int(score)\n",
    "        if score >= 9:\n",
    "            return 'Champions'\n",
    "        elif score >= 7:\n",
    "            return 'Loyal Customers'\n",
    "        elif score >= 4:\n",
    "            return 'At Risk'\n",
    "        else:\n",
    "            return 'Dormant'\n",
    "    except:\n",
    "        return 'Unknown'\n",
    "\n",
    "rfm['Segment'] = rfm['RFM_Score'].apply(assign_segment)\n",
    "\n",
    "# Check unique segment counts (debug step)\n",
    "print(\"Segment counts:\\n\", rfm['Segment'].value_counts())\n",
    "\n",
    "# Plot segment distribution\n",
    "plt.figure(figsize=(10, 6))\n",
    "sns.countplot(data=rfm, x='Segment', order=['Champions', 'Loyal Customers', 'At Risk', 'Dormant'])\n",
    "plt.title('Customer Segment Distribution')\n",
    "plt.xlabel('Customer Segment')\n",
    "plt.ylabel('Number of Customers')\n",
    "plt.grid(True)\n",
    "plt.tight_layout()\n",
    "plt.show()\n"
   ]
  },
  {
   "cell_type": "code",
   "execution_count": null,
   "id": "7efbcd96",
   "metadata": {},
   "outputs": [],
   "source": []
  }
 ],
 "metadata": {
  "kernelspec": {
   "display_name": "Python 3",
   "language": "python",
   "name": "python3"
  },
  "language_info": {
   "codemirror_mode": {
    "name": "ipython",
    "version": 3
   },
   "file_extension": ".py",
   "mimetype": "text/x-python",
   "name": "python",
   "nbconvert_exporter": "python",
   "pygments_lexer": "ipython3",
   "version": "3.8.8"
  }
 },
 "nbformat": 4,
 "nbformat_minor": 5
}
